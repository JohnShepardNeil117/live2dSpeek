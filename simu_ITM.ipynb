{
 "cells": [
  {
   "cell_type": "code",
   "execution_count": 16,
   "metadata": {},
   "outputs": [
    {
     "name": "stderr",
     "output_type": "stream",
     "text": [
      "Werkzeug appears to be used in a production deployment. Consider switching to a production web server instead.\n"
     ]
    },
    {
     "name": "stdout",
     "output_type": "stream",
     "text": [
      " * Serving Flask app '__main__'\n",
      " * Debug mode: off\n"
     ]
    },
    {
     "name": "stderr",
     "output_type": "stream",
     "text": [
      "WARNING: This is a development server. Do not use it in a production deployment. Use a production WSGI server instead.\n",
      " * Running on all addresses (0.0.0.0)\n",
      " * Running on http://127.0.0.1:5002\n",
      " * Running on http://192.168.3.186:5002\n",
      "Press CTRL+C to quit\n",
      "127.0.0.1 - - [24/Nov/2024 18:36:02] \"GET /socket.io/?transport=polling&EIO=4&t=1732444562.881087 HTTP/1.1\" 200 -\n",
      "127.0.0.1 - - [24/Nov/2024 18:36:02] \"GET /socket.io/?transport=websocket&EIO=4&sid=OkNjKMoIh1cpVw8jAAAA&t=1732444562.886625 HTTP/1.1\" 200 -\n",
      "127.0.0.1 - - [24/Nov/2024 18:36:34] \"GET /socket.io/?transport=polling&EIO=4&t=1732444594.7100794 HTTP/1.1\" 200 -\n",
      "127.0.0.1 - - [24/Nov/2024 18:36:34] \"GET /socket.io/?transport=websocket&EIO=4&sid=QoORQTH2lNlzPXsVAAAC&t=1732444594.7159386 HTTP/1.1\" 200 -\n"
     ]
    }
   ],
   "source": [
    "from flask import Flask\n",
    "from flask_socketio import SocketIO, emit\n",
    "from flask_cors import CORS\n",
    "\n",
    "app2 = Flask(__name__)\n",
    "socketio2 = SocketIO(app2)\n",
    "CORS(app2)\n",
    "\n",
    "@socketio2.on('process_request')\n",
    "def process_request(data):\n",
    "    try:\n",
    "        # 提取金额和货币类型\n",
    "        currency = data['parameters']['currency']\n",
    "        amount_data = data['parameters']['amount']\n",
    "        amount_without_comma = amount_data.replace(',', '')\n",
    "        amount = int(amount_without_comma)\n",
    "        # 检查金额是否是100的倍数\n",
    "        if amount % 100 != 0:\n",
    "            emit('response', {\n",
    "                \"event\": \"note-mix\",\n",
    "                \"parameters\": {\n",
    "                    \"success\": False,\n",
    "                    \"actionCode\": \"re-enter-data\",\n",
    "                    \"language\": \"en\",\n",
    "                    \"vg\": \"Sorry, amount not in multiple of 100\"\n",
    "                }\n",
    "            })\n",
    "        else:\n",
    "            # 如果金额合法，可以继续处理，返回成功的响应（根据你的需求调整）\n",
    "            emit('response', {\n",
    "            \"event\": \"note-mix\",\n",
    "            \"parameters\": {\n",
    "                    \"success\": True,\n",
    "                    \"actionCode\": \"proceed\",\n",
    "                    \"language\": \"en\",\n",
    "                    \"vg\": \"Amount is valid\"\n",
    "                }\n",
    "            })\n",
    "\n",
    "    except Exception as e:\n",
    "        # 错误处理\n",
    "        emit('response', {\n",
    "            \"event\": \"error\",\n",
    "            \"message\": str(e)\n",
    "        })\n",
    "\n",
    "if __name__ == '__main__':\n",
    "    socketio2.run(app2, host='0.0.0.0', port=5002,allow_unsafe_werkzeug=True)  # 可以指定端口\n"
   ]
  }
 ],
 "metadata": {
  "kernelspec": {
   "display_name": "python39",
   "language": "python",
   "name": "python3"
  },
  "language_info": {
   "codemirror_mode": {
    "name": "ipython",
    "version": 3
   },
   "file_extension": ".py",
   "mimetype": "text/x-python",
   "name": "python",
   "nbconvert_exporter": "python",
   "pygments_lexer": "ipython3",
   "version": "3.9.18"
  }
 },
 "nbformat": 4,
 "nbformat_minor": 2
}
