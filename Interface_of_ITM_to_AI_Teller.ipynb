{
 "cells": [
  {
   "cell_type": "code",
   "execution_count": null,
   "metadata": {},
   "outputs": [],
   "source": [
    "import socketio\n",
    "\n",
    "# 创建一个 SocketIO 客户端实例\n",
    "sio = socketio.Client()\n",
    "\n",
    "# 连接到服务器\n",
    "@sio.event\n",
    "def connect():\n",
    "    print(\"Connected to the server.\")\n",
    "    # 发送消息\n",
    "    sio.emit('event', {'action': 'event', 'parameters': {'actionCode': '41', 'vg': 'please take money'}})\n",
    "    # 断开连接\n",
    "    sio.disconnect()\n",
    "\n",
    "@sio.event\n",
    "def disconnect():\n",
    "    print(\"Disconnected from the server.\")\n",
    "\n",
    "if __name__ == '__main__':\n",
    "    # 连接到你的 SocketIO 服务器\n",
    "    sio.connect('http://127.0.0.1:5001')"
   ]
  }
 ],
 "metadata": {
  "kernelspec": {
   "display_name": "python39",
   "language": "python",
   "name": "python3"
  },
  "language_info": {
   "codemirror_mode": {
    "name": "ipython",
    "version": 3
   },
   "file_extension": ".py",
   "mimetype": "text/x-python",
   "name": "python",
   "nbconvert_exporter": "python",
   "pygments_lexer": "ipython3",
   "version": "3.9.18"
  }
 },
 "nbformat": 4,
 "nbformat_minor": 2
}
